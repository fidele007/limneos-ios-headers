{
 "cells": [
  {
   "cell_type": "code",
   "execution_count": 68,
   "metadata": {},
   "outputs": [],
   "source": [
    "import os\n",
    "import sys\n",
    "import platform\n",
    "import time\n",
    "import re\n",
    "import webbrowser\n",
    "import zipfile\n",
    "import urllib\n",
    "import requests\n",
    "import webbrowser\n",
    "import bs4\n",
    "from bs4 import BeautifulSoup"
   ]
  },
  {
   "cell_type": "code",
   "execution_count": 23,
   "metadata": {},
   "outputs": [],
   "source": [
    "def generate_headers(version: str):\n",
    "    os.mkdir(version)\n",
    "    \n",
    "    base_url = 'http://developer.limneos.net/index.php'\n",
    "    ios_param = '?ios='\n",
    "    response = requests.get(base_url + ios_param + version)\n",
    "    soup = BeautifulSoup(response.content, 'html.parser')\n",
    "    framework_links = soup.find(id='container').find_all('a')\n",
    "    for framework_link in framework_links:\n",
    "        framework_dir = os.path.join(version, framework_link.text.strip())\n",
    "        os.mkdir(framework_dir)\n",
    "        \n",
    "        framework_url = base_url + framework_link['href']\n",
    "        response = requests.get(framework_url)\n",
    "        soup = BeautifulSoup(response.content, 'html.parser')\n",
    "        header_links = soup.find(id='container').find_all('a')\n",
    "        for header_link in header_links:\n",
    "            response = requests.get(base_url + header_link['href'])\n",
    "            soup = BeautifulSoup(response.content, 'html.parser')\n",
    "            with open(os.path.join(framework_dir, header_link.text.strip()), 'w') as fp:\n",
    "                fp.write(soup.find('pre').text)"
   ]
  },
  {
   "cell_type": "code",
   "execution_count": 24,
   "metadata": {},
   "outputs": [],
   "source": [
    "generate_headers('11.1.2')"
   ]
  }
 ],
 "metadata": {
  "kernelspec": {
   "display_name": "Python 3",
   "language": "python",
   "name": "python3"
  },
  "language_info": {
   "codemirror_mode": {
    "name": "ipython",
    "version": 3
   },
   "file_extension": ".py",
   "mimetype": "text/x-python",
   "name": "python",
   "nbconvert_exporter": "python",
   "pygments_lexer": "ipython3",
   "version": "3.7.4"
  }
 },
 "nbformat": 4,
 "nbformat_minor": 2
}
